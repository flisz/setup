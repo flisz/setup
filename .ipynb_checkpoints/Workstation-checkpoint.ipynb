{
 "cells": [
  {
   "cell_type": "markdown",
   "metadata": {},
   "source": [
    "# Programs to Download:\n",
    "\n",
    "1. Docker \n",
    "    - With windows home: https://www.docker.com/products/docker-toolbox\n",
    "    - Install: https://www.docker.com/products/overview\n",
    "    \n",
    "2. Anaconda (anaconda3)\n",
    "    - Python Distribution: 3.5\n",
    "    - Command: docker continuumio/anaconda3\n",
    "    - Python Packages:\n",
    "        1. jupyter\n",
    "        2. pandas\n",
    "        3. numpy\n",
    "\n",
    "3. Certification of Encryption:\n",
    "    - Command: openssl req -x509 -nodes -days 365 -newkey rsa:1024 -keyout mykey.key -out mycert.pem"
   ]
  }
 ],
 "metadata": {
  "anaconda-cloud": {},
  "kernelspec": {
   "display_name": "Python [conda root]",
   "language": "python",
   "name": "conda-root-py"
  },
  "language_info": {
   "codemirror_mode": {
    "name": "ipython",
    "version": 3
   },
   "file_extension": ".py",
   "mimetype": "text/x-python",
   "name": "python",
   "nbconvert_exporter": "python",
   "pygments_lexer": "ipython3",
   "version": "3.5.2"
  }
 },
 "nbformat": 4,
 "nbformat_minor": 1
}
