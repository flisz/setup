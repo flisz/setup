{
 "cells": [
  {
   "cell_type": "markdown",
   "metadata": {},
   "source": [
    "# Programs to Download:\n",
    "\n",
    "    1. Docker \n",
    "    - With windows home: https://www.docker.com/products/docker-toolbox\n",
    "    - Install: https://www.docker.com/products/overview\n",
    "    \n",
    "    2. Anaconda (anaconda3)\n",
    "    - Python Distribution: 3.5\n",
    "    - Command: docker continuumio/anaconda3\n",
    "    - Python Packages:\n",
    "        1. jupyter\n",
    "        2. pandas\n",
    "        3. numpy\n",
    "\n",
    "For security purposes, encryption is recommended. Using the website: http://jupyter-notebook.readthedocs.io/en/latest/public_server.html, I followed the steps for a self-signed certification. \n",
    "\n",
    "# Certification of Encryption:\n",
    "\n",
    "First, make sure you have a configuration file:\n",
    "\n",
    "`$ jupyter notebook --generate-config`\n",
    "\n",
    "Next, a hashed password can be generated using the code below."
   ]
  },
  {
   "cell_type": "code",
   "execution_count": 1,
   "metadata": {
    "collapsed": true
   },
   "outputs": [],
   "source": [
    "from notebook.auth import passwd"
   ]
  },
  {
   "cell_type": "code",
   "execution_count": 2,
   "metadata": {
    "collapsed": false
   },
   "outputs": [
    {
     "name": "stdout",
     "output_type": "stream",
     "text": [
      "Enter password: ········\n",
      "Verify password: ········\n"
     ]
    },
    {
     "data": {
      "text/plain": [
       "'sha1:ed38077f8e53:e128cdee1a598cd6f9e0979815e32600161b92df'"
      ]
     },
     "execution_count": 2,
     "metadata": {},
     "output_type": "execute_result"
    }
   ],
   "source": [
    "passwd()"
   ]
  },
  {
   "cell_type": "markdown",
   "metadata": {},
   "source": [
    "You can start the notebook to communicate via a secure protocol mode by setting the certfile option to your self-signed certificate, i.e. mycert.pem, with the command (on host):\n",
    "1. Generate keys:\n",
    "    ` openssl req -x509 -nodes -days 365 -newkey rsa:1024 -keyout mykey.key -out mycert.pem`\n",
    "2. Apply Keys to notebook:\n",
    "    `$ jupyter notebook --certfile=mycert.pem --keyfile mykey.key`\n",
    "3. Add path to jupyter-config\n",
    "\n",
    "\n",
    "`export TF_BINARY_URL=https://storage.googleapis.com/tensorflow/mac/cpu/tensorflow-0.11.0rc0-py3-none-any.whl`\n",
    "`pip3 install --ignore-installed --upgrade $TF_BINARY_URL`\n"
   ]
  }
 ],
 "metadata": {
  "anaconda-cloud": {},
  "kernelspec": {
   "display_name": "Python [conda root]",
   "language": "python",
   "name": "conda-root-py"
  },
  "language_info": {
   "codemirror_mode": {
    "name": "ipython",
    "version": 3
   },
   "file_extension": ".py",
   "mimetype": "text/x-python",
   "name": "python",
   "nbconvert_exporter": "python",
   "pygments_lexer": "ipython3",
   "version": "3.5.2"
  }
 },
 "nbformat": 4,
 "nbformat_minor": 1
}
